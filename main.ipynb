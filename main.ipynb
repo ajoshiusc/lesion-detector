{
  "nbformat": 4,
  "nbformat_minor": 0,
  "metadata": {
    "colab": {
      "name": "main.ipynb",
      "version": "0.3.2",
      "provenance": [],
      "collapsed_sections": [],
      "toc_visible": true,
      "include_colab_link": true
    },
    "kernelspec": {
      "name": "python3",
      "display_name": "Python 3"
    },
    "accelerator": "GPU"
  },
  "cells": [
    {
      "cell_type": "markdown",
      "metadata": {
        "id": "view-in-github",
        "colab_type": "text"
      },
      "source": [
        "[View in Colaboratory](https://colab.research.google.com/github/ajoshiusc/lesion-detector/blob/master/main.ipynb)"
      ]
    },
    {
      "metadata": {
        "id": "9nirm0jNO0Hw",
        "colab_type": "code",
        "colab": {
          "base_uri": "https://localhost:8080/",
          "height": 3516
        },
        "outputId": "08c04b32-67cd-48cd-e3b7-5de4f484954d"
      },
      "cell_type": "code",
      "source": [
        "!git clone https://github.com/ajoshiusc/lesion-detector\n",
        "!pip install nilearn\n",
        "import nilearn.image\n",
        "import sys\n",
        "sys.path.insert(0, './lesion-detector/src/SpyderNet')\n",
        "  \n",
        "import numpy as np\n",
        "from spydernet import train_model\n",
        "from datautils import read_data\n",
        "from google.colab import drive\n",
        "#gdrive/My Drive/tracktbi_pilot/TBI_INVAB025GWR\n",
        "def main():\n",
        "\n",
        "    print('gdrive mounting')\n",
        "    drive.mount('/content/gdrive')\n",
        "    print('mounted')\n",
        "    \"\"\" Main script that calls the functions objects\"\"\"\n",
        "    data_dir = 'gdrive/My Drive/tracktbi_pilot'\n",
        "\n",
        "    train_data = read_data(\n",
        "        study_dir=data_dir, nsub=50, psize=[8, 8], npatch_perslice=256)\n",
        "    \n",
        "    print('data read')\n",
        "\n",
        "    model = train_model(train_data)\n",
        "\n",
        "\n",
        "if __name__ == \"__main__\":\n",
        "    main()\n",
        "\n",
        "\n",
        "\n",
        "from tensorflow.python.client import device_lib\n",
        "device_lib.list_local_devices()"
      ],
      "execution_count": 1,
      "outputs": [
        {
          "output_type": "stream",
          "text": [
            "Cloning into 'lesion-detector'...\n",
            "remote: Enumerating objects: 212, done.\u001b[K\n",
            "remote: Counting objects: 100% (212/212), done.\u001b[K\n",
            "remote: Compressing objects: 100% (145/145), done.\u001b[K\n",
            "remote: Total 212 (delta 124), reused 132 (delta 54), pack-reused 0\u001b[K\n",
            "Receiving objects: 100% (212/212), 15.61 MiB | 18.31 MiB/s, done.\n",
            "Resolving deltas: 100% (124/124), done.\n",
            "Collecting nilearn\n",
            "\u001b[?25l  Downloading https://files.pythonhosted.org/packages/f5/b8/ecf17d4ce0aee488ea4c1dc483cd191811f79c644010255258623988bd5b/nilearn-0.4.2-py2.py3-none-any.whl (979kB)\n",
            "\u001b[K    100% |████████████████████████████████| 983kB 19.3MB/s \n",
            "\u001b[?25hCollecting nibabel>=2.0.2 (from nilearn)\n",
            "\u001b[?25l  Downloading https://files.pythonhosted.org/packages/d9/f0/008aa42c3bd42d101cfcd5418643364a4b3dd2322de3e8b3d6c644ae0fb0/nibabel-2.3.0.tar.gz (4.2MB)\n",
            "\u001b[K    100% |████████████████████████████████| 4.2MB 938kB/s \n",
            "\u001b[?25hBuilding wheels for collected packages: nibabel\n",
            "  Running setup.py bdist_wheel for nibabel ... \u001b[?25l-\b \b\\\b \b|\b \b/\b \b-\b \b\\\b \b|\b \bdone\n",
            "\u001b[?25h  Stored in directory: /root/.cache/pip/wheels/7e/97/9b/7cf05225afac39de2dacef758fc06c0c0bdf3e6efb40fabb9c\n",
            "Successfully built nibabel\n",
            "Installing collected packages: nibabel, nilearn\n",
            "Successfully installed nibabel-2.3.0 nilearn-0.4.2\n"
          ],
          "name": "stdout"
        },
        {
          "output_type": "stream",
          "text": [
            "Using TensorFlow backend.\n"
          ],
          "name": "stderr"
        },
        {
          "output_type": "stream",
          "text": [
            "gdrive mounting\n",
            "Go to this URL in a browser: https://accounts.google.com/o/oauth2/auth?client_id=947318989803-6bn6qk8qdgf4n4g3pfee6491hc0brc4i.apps.googleusercontent.com&redirect_uri=urn%3Aietf%3Awg%3Aoauth%3A2.0%3Aoob&scope=email%20https%3A%2F%2Fwww.googleapis.com%2Fauth%2Fdocs.test%20https%3A%2F%2Fwww.googleapis.com%2Fauth%2Fdrive%20https%3A%2F%2Fwww.googleapis.com%2Fauth%2Fdrive.photos.readonly%20https%3A%2F%2Fwww.googleapis.com%2Fauth%2Fpeopleapi.readonly&response_type=code\n",
            "\n",
            "Enter your authorization code:\n",
            "··········\n",
            "Mounted at /content/gdrive\n",
            "mounted\n",
            "subject 1 \n",
            "subject 2 \n",
            "subject 3 \n",
            "subject 4 \n",
            "subject 5 \n",
            "data read\n",
            "==Defining Model  ==\n",
            "Train on 186368 samples, validate on 46592 samples\n",
            "Epoch 1/200\n",
            "186368/186368 [==============================] - 20s 107us/step - loss: 0.1244 - d1dec3_loss: 0.0343 - d2dec3_loss: 0.0415 - d3dec3_loss: 0.0486 - val_loss: 0.0456 - val_d1dec3_loss: 0.0169 - val_d2dec3_loss: 0.0128 - val_d3dec3_loss: 0.0159\n",
            "Epoch 2/200\n",
            "186368/186368 [==============================] - 19s 100us/step - loss: 0.0390 - d1dec3_loss: 0.0116 - d2dec3_loss: 0.0135 - d3dec3_loss: 0.0140 - val_loss: 0.0337 - val_d1dec3_loss: 0.0131 - val_d2dec3_loss: 0.0093 - val_d3dec3_loss: 0.0113\n",
            "Epoch 3/200\n",
            "186368/186368 [==============================] - 18s 99us/step - loss: 0.0322 - d1dec3_loss: 0.0099 - d2dec3_loss: 0.0111 - d3dec3_loss: 0.0112 - val_loss: 0.0298 - val_d1dec3_loss: 0.0116 - val_d2dec3_loss: 0.0083 - val_d3dec3_loss: 0.0099\n",
            "Epoch 4/200\n",
            "186368/186368 [==============================] - 18s 99us/step - loss: 0.0288 - d1dec3_loss: 0.0090 - d2dec3_loss: 0.0098 - d3dec3_loss: 0.0100 - val_loss: 0.0272 - val_d1dec3_loss: 0.0108 - val_d2dec3_loss: 0.0072 - val_d3dec3_loss: 0.0092\n",
            "Epoch 5/200\n",
            "186368/186368 [==============================] - 18s 98us/step - loss: 0.0265 - d1dec3_loss: 0.0084 - d2dec3_loss: 0.0089 - d3dec3_loss: 0.0092 - val_loss: 0.0259 - val_d1dec3_loss: 0.0103 - val_d2dec3_loss: 0.0065 - val_d3dec3_loss: 0.0090\n",
            "Epoch 6/200\n",
            "186368/186368 [==============================] - 18s 99us/step - loss: 0.0248 - d1dec3_loss: 0.0080 - d2dec3_loss: 0.0082 - d3dec3_loss: 0.0085 - val_loss: 0.0248 - val_d1dec3_loss: 0.0099 - val_d2dec3_loss: 0.0062 - val_d3dec3_loss: 0.0087\n",
            "Epoch 7/200\n",
            "186368/186368 [==============================] - 18s 98us/step - loss: 0.0235 - d1dec3_loss: 0.0077 - d2dec3_loss: 0.0078 - d3dec3_loss: 0.0080 - val_loss: 0.0234 - val_d1dec3_loss: 0.0095 - val_d2dec3_loss: 0.0058 - val_d3dec3_loss: 0.0081\n",
            "Epoch 8/200\n",
            "186368/186368 [==============================] - 18s 99us/step - loss: 0.0225 - d1dec3_loss: 0.0074 - d2dec3_loss: 0.0075 - d3dec3_loss: 0.0076 - val_loss: 0.0223 - val_d1dec3_loss: 0.0091 - val_d2dec3_loss: 0.0056 - val_d3dec3_loss: 0.0076\n",
            "Epoch 9/200\n",
            "186368/186368 [==============================] - 18s 98us/step - loss: 0.0218 - d1dec3_loss: 0.0071 - d2dec3_loss: 0.0073 - d3dec3_loss: 0.0073 - val_loss: 0.0216 - val_d1dec3_loss: 0.0088 - val_d2dec3_loss: 0.0054 - val_d3dec3_loss: 0.0074\n",
            "Epoch 10/200\n",
            "186368/186368 [==============================] - 19s 99us/step - loss: 0.0212 - d1dec3_loss: 0.0069 - d2dec3_loss: 0.0072 - d3dec3_loss: 0.0071 - val_loss: 0.0211 - val_d1dec3_loss: 0.0086 - val_d2dec3_loss: 0.0054 - val_d3dec3_loss: 0.0071\n",
            "Epoch 11/200\n",
            "186368/186368 [==============================] - 18s 99us/step - loss: 0.0207 - d1dec3_loss: 0.0067 - d2dec3_loss: 0.0071 - d3dec3_loss: 0.0069 - val_loss: 0.0206 - val_d1dec3_loss: 0.0084 - val_d2dec3_loss: 0.0052 - val_d3dec3_loss: 0.0070\n",
            "Epoch 12/200\n",
            "186368/186368 [==============================] - 19s 99us/step - loss: 0.0203 - d1dec3_loss: 0.0066 - d2dec3_loss: 0.0070 - d3dec3_loss: 0.0068 - val_loss: 0.0203 - val_d1dec3_loss: 0.0082 - val_d2dec3_loss: 0.0052 - val_d3dec3_loss: 0.0069\n",
            "Epoch 13/200\n",
            "186368/186368 [==============================] - 18s 99us/step - loss: 0.0199 - d1dec3_loss: 0.0064 - d2dec3_loss: 0.0068 - d3dec3_loss: 0.0067 - val_loss: 0.0199 - val_d1dec3_loss: 0.0080 - val_d2dec3_loss: 0.0052 - val_d3dec3_loss: 0.0068\n",
            "Epoch 14/200\n",
            "186368/186368 [==============================] - 18s 98us/step - loss: 0.0196 - d1dec3_loss: 0.0063 - d2dec3_loss: 0.0067 - d3dec3_loss: 0.0066 - val_loss: 0.0199 - val_d1dec3_loss: 0.0080 - val_d2dec3_loss: 0.0051 - val_d3dec3_loss: 0.0068\n",
            "Epoch 15/200\n",
            "186368/186368 [==============================] - 18s 98us/step - loss: 0.0193 - d1dec3_loss: 0.0062 - d2dec3_loss: 0.0067 - d3dec3_loss: 0.0065 - val_loss: 0.0192 - val_d1dec3_loss: 0.0077 - val_d2dec3_loss: 0.0049 - val_d3dec3_loss: 0.0066\n",
            "Epoch 16/200\n",
            "186368/186368 [==============================] - 18s 99us/step - loss: 0.0190 - d1dec3_loss: 0.0061 - d2dec3_loss: 0.0066 - d3dec3_loss: 0.0064 - val_loss: 0.0192 - val_d1dec3_loss: 0.0076 - val_d2dec3_loss: 0.0049 - val_d3dec3_loss: 0.0067\n",
            "Epoch 17/200\n",
            "186368/186368 [==============================] - 19s 100us/step - loss: 0.0188 - d1dec3_loss: 0.0060 - d2dec3_loss: 0.0065 - d3dec3_loss: 0.0064 - val_loss: 0.0191 - val_d1dec3_loss: 0.0074 - val_d2dec3_loss: 0.0049 - val_d3dec3_loss: 0.0067\n",
            "Epoch 18/200\n",
            "186368/186368 [==============================] - 18s 98us/step - loss: 0.0186 - d1dec3_loss: 0.0059 - d2dec3_loss: 0.0064 - d3dec3_loss: 0.0063 - val_loss: 0.0186 - val_d1dec3_loss: 0.0073 - val_d2dec3_loss: 0.0048 - val_d3dec3_loss: 0.0065\n",
            "Epoch 19/200\n",
            "186368/186368 [==============================] - 18s 98us/step - loss: 0.0184 - d1dec3_loss: 0.0059 - d2dec3_loss: 0.0063 - d3dec3_loss: 0.0062 - val_loss: 0.0186 - val_d1dec3_loss: 0.0073 - val_d2dec3_loss: 0.0048 - val_d3dec3_loss: 0.0065\n",
            "Epoch 20/200\n",
            "186368/186368 [==============================] - 18s 99us/step - loss: 0.0182 - d1dec3_loss: 0.0058 - d2dec3_loss: 0.0062 - d3dec3_loss: 0.0062 - val_loss: 0.0187 - val_d1dec3_loss: 0.0073 - val_d2dec3_loss: 0.0047 - val_d3dec3_loss: 0.0067\n",
            "Epoch 21/200\n",
            "186368/186368 [==============================] - 18s 99us/step - loss: 0.0180 - d1dec3_loss: 0.0058 - d2dec3_loss: 0.0061 - d3dec3_loss: 0.0061 - val_loss: 0.0181 - val_d1dec3_loss: 0.0072 - val_d2dec3_loss: 0.0046 - val_d3dec3_loss: 0.0063\n",
            "Epoch 22/200\n",
            "186368/186368 [==============================] - 18s 98us/step - loss: 0.0178 - d1dec3_loss: 0.0057 - d2dec3_loss: 0.0060 - d3dec3_loss: 0.0061 - val_loss: 0.0183 - val_d1dec3_loss: 0.0072 - val_d2dec3_loss: 0.0045 - val_d3dec3_loss: 0.0067\n",
            "Epoch 23/200\n",
            "186368/186368 [==============================] - 18s 99us/step - loss: 0.0176 - d1dec3_loss: 0.0057 - d2dec3_loss: 0.0059 - d3dec3_loss: 0.0060 - val_loss: 0.0178 - val_d1dec3_loss: 0.0071 - val_d2dec3_loss: 0.0046 - val_d3dec3_loss: 0.0062\n",
            "Epoch 24/200\n",
            "186368/186368 [==============================] - 18s 99us/step - loss: 0.0174 - d1dec3_loss: 0.0056 - d2dec3_loss: 0.0058 - d3dec3_loss: 0.0060 - val_loss: 0.0178 - val_d1dec3_loss: 0.0071 - val_d2dec3_loss: 0.0044 - val_d3dec3_loss: 0.0063\n",
            "Epoch 25/200\n",
            "186368/186368 [==============================] - 18s 98us/step - loss: 0.0173 - d1dec3_loss: 0.0056 - d2dec3_loss: 0.0057 - d3dec3_loss: 0.0059 - val_loss: 0.0176 - val_d1dec3_loss: 0.0070 - val_d2dec3_loss: 0.0044 - val_d3dec3_loss: 0.0062\n",
            "Epoch 26/200\n",
            "186368/186368 [==============================] - 18s 98us/step - loss: 0.0170 - d1dec3_loss: 0.0056 - d2dec3_loss: 0.0056 - d3dec3_loss: 0.0059 - val_loss: 0.0172 - val_d1dec3_loss: 0.0069 - val_d2dec3_loss: 0.0041 - val_d3dec3_loss: 0.0062\n",
            "Epoch 27/200\n",
            "186368/186368 [==============================] - 18s 98us/step - loss: 0.0167 - d1dec3_loss: 0.0055 - d2dec3_loss: 0.0054 - d3dec3_loss: 0.0058 - val_loss: 0.0169 - val_d1dec3_loss: 0.0069 - val_d2dec3_loss: 0.0040 - val_d3dec3_loss: 0.0060\n",
            "Epoch 28/200\n",
            "186368/186368 [==============================] - 18s 99us/step - loss: 0.0164 - d1dec3_loss: 0.0055 - d2dec3_loss: 0.0053 - d3dec3_loss: 0.0057 - val_loss: 0.0169 - val_d1dec3_loss: 0.0068 - val_d2dec3_loss: 0.0040 - val_d3dec3_loss: 0.0061\n",
            "Epoch 29/200\n",
            "186368/186368 [==============================] - 18s 98us/step - loss: 0.0162 - d1dec3_loss: 0.0055 - d2dec3_loss: 0.0051 - d3dec3_loss: 0.0056 - val_loss: 0.0167 - val_d1dec3_loss: 0.0068 - val_d2dec3_loss: 0.0039 - val_d3dec3_loss: 0.0060\n",
            "Epoch 30/200\n",
            "186368/186368 [==============================] - 18s 99us/step - loss: 0.0160 - d1dec3_loss: 0.0054 - d2dec3_loss: 0.0051 - d3dec3_loss: 0.0055 - val_loss: 0.0168 - val_d1dec3_loss: 0.0068 - val_d2dec3_loss: 0.0038 - val_d3dec3_loss: 0.0062\n",
            "Epoch 31/200\n",
            "186368/186368 [==============================] - 18s 98us/step - loss: 0.0159 - d1dec3_loss: 0.0054 - d2dec3_loss: 0.0050 - d3dec3_loss: 0.0055 - val_loss: 0.0163 - val_d1dec3_loss: 0.0068 - val_d2dec3_loss: 0.0038 - val_d3dec3_loss: 0.0058\n",
            "Epoch 32/200\n",
            "186368/186368 [==============================] - 18s 97us/step - loss: 0.0157 - d1dec3_loss: 0.0054 - d2dec3_loss: 0.0049 - d3dec3_loss: 0.0054 - val_loss: 0.0161 - val_d1dec3_loss: 0.0067 - val_d2dec3_loss: 0.0037 - val_d3dec3_loss: 0.0057\n",
            "Epoch 33/200\n",
            "186368/186368 [==============================] - 19s 100us/step - loss: 0.0155 - d1dec3_loss: 0.0054 - d2dec3_loss: 0.0048 - d3dec3_loss: 0.0053 - val_loss: 0.0160 - val_d1dec3_loss: 0.0066 - val_d2dec3_loss: 0.0037 - val_d3dec3_loss: 0.0057\n",
            "Epoch 34/200\n",
            "186368/186368 [==============================] - 18s 98us/step - loss: 0.0154 - d1dec3_loss: 0.0053 - d2dec3_loss: 0.0048 - d3dec3_loss: 0.0053 - val_loss: 0.0161 - val_d1dec3_loss: 0.0066 - val_d2dec3_loss: 0.0036 - val_d3dec3_loss: 0.0059\n",
            "Epoch 35/200\n",
            "186368/186368 [==============================] - 18s 99us/step - loss: 0.0153 - d1dec3_loss: 0.0053 - d2dec3_loss: 0.0047 - d3dec3_loss: 0.0053 - val_loss: 0.0157 - val_d1dec3_loss: 0.0065 - val_d2dec3_loss: 0.0035 - val_d3dec3_loss: 0.0056\n",
            "Epoch 36/200\n",
            "186368/186368 [==============================] - 18s 98us/step - loss: 0.0151 - d1dec3_loss: 0.0053 - d2dec3_loss: 0.0046 - d3dec3_loss: 0.0052 - val_loss: 0.0158 - val_d1dec3_loss: 0.0065 - val_d2dec3_loss: 0.0037 - val_d3dec3_loss: 0.0056\n",
            "Epoch 37/200\n",
            "186368/186368 [==============================] - 18s 98us/step - loss: 0.0151 - d1dec3_loss: 0.0053 - d2dec3_loss: 0.0046 - d3dec3_loss: 0.0052 - val_loss: 0.0157 - val_d1dec3_loss: 0.0065 - val_d2dec3_loss: 0.0034 - val_d3dec3_loss: 0.0057\n",
            "Epoch 38/200\n",
            "186368/186368 [==============================] - 19s 100us/step - loss: 0.0149 - d1dec3_loss: 0.0052 - d2dec3_loss: 0.0045 - d3dec3_loss: 0.0051 - val_loss: 0.0154 - val_d1dec3_loss: 0.0065 - val_d2dec3_loss: 0.0034 - val_d3dec3_loss: 0.0055\n",
            "Epoch 39/200\n",
            "186368/186368 [==============================] - 18s 98us/step - loss: 0.0148 - d1dec3_loss: 0.0052 - d2dec3_loss: 0.0045 - d3dec3_loss: 0.0051 - val_loss: 0.0155 - val_d1dec3_loss: 0.0064 - val_d2dec3_loss: 0.0035 - val_d3dec3_loss: 0.0056\n",
            "Epoch 40/200\n",
            "  6400/186368 [>.............................] - ETA: 16s - loss: 0.0149 - d1dec3_loss: 0.0052 - d2dec3_loss: 0.0047 - d3dec3_loss: 0.0051"
          ],
          "name": "stdout"
        },
        {
          "output_type": "error",
          "ename": "KeyboardInterrupt",
          "evalue": "ignored",
          "traceback": [
            "\u001b[0;31m---------------------------------------------------------------------------\u001b[0m",
            "\u001b[0;31mKeyboardInterrupt\u001b[0m                         Traceback (most recent call last)",
            "\u001b[0;32m<ipython-input-1-32606fb2a063>\u001b[0m in \u001b[0;36m<module>\u001b[0;34m()\u001b[0m\n\u001b[1;32m     27\u001b[0m \u001b[0;34m\u001b[0m\u001b[0m\n\u001b[1;32m     28\u001b[0m \u001b[0;32mif\u001b[0m \u001b[0m__name__\u001b[0m \u001b[0;34m==\u001b[0m \u001b[0;34m\"__main__\"\u001b[0m\u001b[0;34m:\u001b[0m\u001b[0;34m\u001b[0m\u001b[0m\n\u001b[0;32m---> 29\u001b[0;31m     \u001b[0mmain\u001b[0m\u001b[0;34m(\u001b[0m\u001b[0;34m)\u001b[0m\u001b[0;34m\u001b[0m\u001b[0m\n\u001b[0m\u001b[1;32m     30\u001b[0m \u001b[0;34m\u001b[0m\u001b[0m\n\u001b[1;32m     31\u001b[0m \u001b[0;34m\u001b[0m\u001b[0m\n",
            "\u001b[0;32m<ipython-input-1-32606fb2a063>\u001b[0m in \u001b[0;36mmain\u001b[0;34m()\u001b[0m\n\u001b[1;32m     23\u001b[0m     \u001b[0mprint\u001b[0m\u001b[0;34m(\u001b[0m\u001b[0;34m'data read'\u001b[0m\u001b[0;34m)\u001b[0m\u001b[0;34m\u001b[0m\u001b[0m\n\u001b[1;32m     24\u001b[0m \u001b[0;34m\u001b[0m\u001b[0m\n\u001b[0;32m---> 25\u001b[0;31m     \u001b[0mmodel\u001b[0m \u001b[0;34m=\u001b[0m \u001b[0mtrain_model\u001b[0m\u001b[0;34m(\u001b[0m\u001b[0mtrain_data\u001b[0m\u001b[0;34m)\u001b[0m\u001b[0;34m\u001b[0m\u001b[0m\n\u001b[0m\u001b[1;32m     26\u001b[0m \u001b[0;34m\u001b[0m\u001b[0m\n\u001b[1;32m     27\u001b[0m \u001b[0;34m\u001b[0m\u001b[0m\n",
            "\u001b[0;32m/content/lesion-detector/src/SpyderNet/spydernet.py\u001b[0m in \u001b[0;36mtrain_model\u001b[0;34m(data)\u001b[0m\n\u001b[1;32m     72\u001b[0m                           \u001b[0mshuffle\u001b[0m\u001b[0;34m=\u001b[0m\u001b[0;32mTrue\u001b[0m\u001b[0;34m,\u001b[0m\u001b[0;34m\u001b[0m\u001b[0m\n\u001b[1;32m     73\u001b[0m                           \u001b[0mvalidation_split\u001b[0m\u001b[0;34m=\u001b[0m\u001b[0;36m0.2\u001b[0m\u001b[0;34m,\u001b[0m\u001b[0;34m\u001b[0m\u001b[0m\n\u001b[0;32m---> 74\u001b[0;31m                           callbacks=[tensorboard])\n\u001b[0m\u001b[1;32m     75\u001b[0m \u001b[0;34m\u001b[0m\u001b[0m\n\u001b[1;32m     76\u001b[0m     \u001b[0;32mreturn\u001b[0m \u001b[0mautoenc\u001b[0m\u001b[0;34m\u001b[0m\u001b[0m\n",
            "\u001b[0;32m/usr/local/lib/python3.6/dist-packages/keras/engine/training.py\u001b[0m in \u001b[0;36mfit\u001b[0;34m(self, x, y, batch_size, epochs, verbose, callbacks, validation_split, validation_data, shuffle, class_weight, sample_weight, initial_epoch, steps_per_epoch, validation_steps, **kwargs)\u001b[0m\n\u001b[1;32m   1703\u001b[0m                               \u001b[0minitial_epoch\u001b[0m\u001b[0;34m=\u001b[0m\u001b[0minitial_epoch\u001b[0m\u001b[0;34m,\u001b[0m\u001b[0;34m\u001b[0m\u001b[0m\n\u001b[1;32m   1704\u001b[0m                               \u001b[0msteps_per_epoch\u001b[0m\u001b[0;34m=\u001b[0m\u001b[0msteps_per_epoch\u001b[0m\u001b[0;34m,\u001b[0m\u001b[0;34m\u001b[0m\u001b[0m\n\u001b[0;32m-> 1705\u001b[0;31m                               validation_steps=validation_steps)\n\u001b[0m\u001b[1;32m   1706\u001b[0m \u001b[0;34m\u001b[0m\u001b[0m\n\u001b[1;32m   1707\u001b[0m     def evaluate(self, x=None, y=None,\n",
            "\u001b[0;32m/usr/local/lib/python3.6/dist-packages/keras/engine/training.py\u001b[0m in \u001b[0;36m_fit_loop\u001b[0;34m(self, f, ins, out_labels, batch_size, epochs, verbose, callbacks, val_f, val_ins, shuffle, callback_metrics, initial_epoch, steps_per_epoch, validation_steps)\u001b[0m\n\u001b[1;32m   1234\u001b[0m                         \u001b[0mins_batch\u001b[0m\u001b[0;34m[\u001b[0m\u001b[0mi\u001b[0m\u001b[0;34m]\u001b[0m \u001b[0;34m=\u001b[0m \u001b[0mins_batch\u001b[0m\u001b[0;34m[\u001b[0m\u001b[0mi\u001b[0m\u001b[0;34m]\u001b[0m\u001b[0;34m.\u001b[0m\u001b[0mtoarray\u001b[0m\u001b[0;34m(\u001b[0m\u001b[0;34m)\u001b[0m\u001b[0;34m\u001b[0m\u001b[0m\n\u001b[1;32m   1235\u001b[0m \u001b[0;34m\u001b[0m\u001b[0m\n\u001b[0;32m-> 1236\u001b[0;31m                     \u001b[0mouts\u001b[0m \u001b[0;34m=\u001b[0m \u001b[0mf\u001b[0m\u001b[0;34m(\u001b[0m\u001b[0mins_batch\u001b[0m\u001b[0;34m)\u001b[0m\u001b[0;34m\u001b[0m\u001b[0m\n\u001b[0m\u001b[1;32m   1237\u001b[0m                     \u001b[0;32mif\u001b[0m \u001b[0;32mnot\u001b[0m \u001b[0misinstance\u001b[0m\u001b[0;34m(\u001b[0m\u001b[0mouts\u001b[0m\u001b[0;34m,\u001b[0m \u001b[0mlist\u001b[0m\u001b[0;34m)\u001b[0m\u001b[0;34m:\u001b[0m\u001b[0;34m\u001b[0m\u001b[0m\n\u001b[1;32m   1238\u001b[0m                         \u001b[0mouts\u001b[0m \u001b[0;34m=\u001b[0m \u001b[0;34m[\u001b[0m\u001b[0mouts\u001b[0m\u001b[0;34m]\u001b[0m\u001b[0;34m\u001b[0m\u001b[0m\n",
            "\u001b[0;32m/usr/local/lib/python3.6/dist-packages/keras/backend/tensorflow_backend.py\u001b[0m in \u001b[0;36m__call__\u001b[0;34m(self, inputs)\u001b[0m\n\u001b[1;32m   2480\u001b[0m         \u001b[0msession\u001b[0m \u001b[0;34m=\u001b[0m \u001b[0mget_session\u001b[0m\u001b[0;34m(\u001b[0m\u001b[0;34m)\u001b[0m\u001b[0;34m\u001b[0m\u001b[0m\n\u001b[1;32m   2481\u001b[0m         updated = session.run(fetches=fetches, feed_dict=feed_dict,\n\u001b[0;32m-> 2482\u001b[0;31m                               **self.session_kwargs)\n\u001b[0m\u001b[1;32m   2483\u001b[0m         \u001b[0;32mreturn\u001b[0m \u001b[0mupdated\u001b[0m\u001b[0;34m[\u001b[0m\u001b[0;34m:\u001b[0m\u001b[0mlen\u001b[0m\u001b[0;34m(\u001b[0m\u001b[0mself\u001b[0m\u001b[0;34m.\u001b[0m\u001b[0moutputs\u001b[0m\u001b[0;34m)\u001b[0m\u001b[0;34m]\u001b[0m\u001b[0;34m\u001b[0m\u001b[0m\n\u001b[1;32m   2484\u001b[0m \u001b[0;34m\u001b[0m\u001b[0m\n",
            "\u001b[0;32m/usr/local/lib/python3.6/dist-packages/tensorflow/python/client/session.py\u001b[0m in \u001b[0;36mrun\u001b[0;34m(self, fetches, feed_dict, options, run_metadata)\u001b[0m\n\u001b[1;32m    885\u001b[0m     \u001b[0;32mtry\u001b[0m\u001b[0;34m:\u001b[0m\u001b[0;34m\u001b[0m\u001b[0m\n\u001b[1;32m    886\u001b[0m       result = self._run(None, fetches, feed_dict, options_ptr,\n\u001b[0;32m--> 887\u001b[0;31m                          run_metadata_ptr)\n\u001b[0m\u001b[1;32m    888\u001b[0m       \u001b[0;32mif\u001b[0m \u001b[0mrun_metadata\u001b[0m\u001b[0;34m:\u001b[0m\u001b[0;34m\u001b[0m\u001b[0m\n\u001b[1;32m    889\u001b[0m         \u001b[0mproto_data\u001b[0m \u001b[0;34m=\u001b[0m \u001b[0mtf_session\u001b[0m\u001b[0;34m.\u001b[0m\u001b[0mTF_GetBuffer\u001b[0m\u001b[0;34m(\u001b[0m\u001b[0mrun_metadata_ptr\u001b[0m\u001b[0;34m)\u001b[0m\u001b[0;34m\u001b[0m\u001b[0m\n",
            "\u001b[0;32m/usr/local/lib/python3.6/dist-packages/tensorflow/python/client/session.py\u001b[0m in \u001b[0;36m_run\u001b[0;34m(self, handle, fetches, feed_dict, options, run_metadata)\u001b[0m\n\u001b[1;32m   1108\u001b[0m     \u001b[0;32mif\u001b[0m \u001b[0mfinal_fetches\u001b[0m \u001b[0;32mor\u001b[0m \u001b[0mfinal_targets\u001b[0m \u001b[0;32mor\u001b[0m \u001b[0;34m(\u001b[0m\u001b[0mhandle\u001b[0m \u001b[0;32mand\u001b[0m \u001b[0mfeed_dict_tensor\u001b[0m\u001b[0;34m)\u001b[0m\u001b[0;34m:\u001b[0m\u001b[0;34m\u001b[0m\u001b[0m\n\u001b[1;32m   1109\u001b[0m       results = self._do_run(handle, final_targets, final_fetches,\n\u001b[0;32m-> 1110\u001b[0;31m                              feed_dict_tensor, options, run_metadata)\n\u001b[0m\u001b[1;32m   1111\u001b[0m     \u001b[0;32melse\u001b[0m\u001b[0;34m:\u001b[0m\u001b[0;34m\u001b[0m\u001b[0m\n\u001b[1;32m   1112\u001b[0m       \u001b[0mresults\u001b[0m \u001b[0;34m=\u001b[0m \u001b[0;34m[\u001b[0m\u001b[0;34m]\u001b[0m\u001b[0;34m\u001b[0m\u001b[0m\n",
            "\u001b[0;32m/usr/local/lib/python3.6/dist-packages/tensorflow/python/client/session.py\u001b[0m in \u001b[0;36m_do_run\u001b[0;34m(self, handle, target_list, fetch_list, feed_dict, options, run_metadata)\u001b[0m\n\u001b[1;32m   1284\u001b[0m     \u001b[0;32mif\u001b[0m \u001b[0mhandle\u001b[0m \u001b[0;32mis\u001b[0m \u001b[0;32mNone\u001b[0m\u001b[0;34m:\u001b[0m\u001b[0;34m\u001b[0m\u001b[0m\n\u001b[1;32m   1285\u001b[0m       return self._do_call(_run_fn, feeds, fetches, targets, options,\n\u001b[0;32m-> 1286\u001b[0;31m                            run_metadata)\n\u001b[0m\u001b[1;32m   1287\u001b[0m     \u001b[0;32melse\u001b[0m\u001b[0;34m:\u001b[0m\u001b[0;34m\u001b[0m\u001b[0m\n\u001b[1;32m   1288\u001b[0m       \u001b[0;32mreturn\u001b[0m \u001b[0mself\u001b[0m\u001b[0;34m.\u001b[0m\u001b[0m_do_call\u001b[0m\u001b[0;34m(\u001b[0m\u001b[0m_prun_fn\u001b[0m\u001b[0;34m,\u001b[0m \u001b[0mhandle\u001b[0m\u001b[0;34m,\u001b[0m \u001b[0mfeeds\u001b[0m\u001b[0;34m,\u001b[0m \u001b[0mfetches\u001b[0m\u001b[0;34m)\u001b[0m\u001b[0;34m\u001b[0m\u001b[0m\n",
            "\u001b[0;32m/usr/local/lib/python3.6/dist-packages/tensorflow/python/client/session.py\u001b[0m in \u001b[0;36m_do_call\u001b[0;34m(self, fn, *args)\u001b[0m\n\u001b[1;32m   1290\u001b[0m   \u001b[0;32mdef\u001b[0m \u001b[0m_do_call\u001b[0m\u001b[0;34m(\u001b[0m\u001b[0mself\u001b[0m\u001b[0;34m,\u001b[0m \u001b[0mfn\u001b[0m\u001b[0;34m,\u001b[0m \u001b[0;34m*\u001b[0m\u001b[0margs\u001b[0m\u001b[0;34m)\u001b[0m\u001b[0;34m:\u001b[0m\u001b[0;34m\u001b[0m\u001b[0m\n\u001b[1;32m   1291\u001b[0m     \u001b[0;32mtry\u001b[0m\u001b[0;34m:\u001b[0m\u001b[0;34m\u001b[0m\u001b[0m\n\u001b[0;32m-> 1292\u001b[0;31m       \u001b[0;32mreturn\u001b[0m \u001b[0mfn\u001b[0m\u001b[0;34m(\u001b[0m\u001b[0;34m*\u001b[0m\u001b[0margs\u001b[0m\u001b[0;34m)\u001b[0m\u001b[0;34m\u001b[0m\u001b[0m\n\u001b[0m\u001b[1;32m   1293\u001b[0m     \u001b[0;32mexcept\u001b[0m \u001b[0merrors\u001b[0m\u001b[0;34m.\u001b[0m\u001b[0mOpError\u001b[0m \u001b[0;32mas\u001b[0m \u001b[0me\u001b[0m\u001b[0;34m:\u001b[0m\u001b[0;34m\u001b[0m\u001b[0m\n\u001b[1;32m   1294\u001b[0m       \u001b[0mmessage\u001b[0m \u001b[0;34m=\u001b[0m \u001b[0mcompat\u001b[0m\u001b[0;34m.\u001b[0m\u001b[0mas_text\u001b[0m\u001b[0;34m(\u001b[0m\u001b[0me\u001b[0m\u001b[0;34m.\u001b[0m\u001b[0mmessage\u001b[0m\u001b[0;34m)\u001b[0m\u001b[0;34m\u001b[0m\u001b[0m\n",
            "\u001b[0;32m/usr/local/lib/python3.6/dist-packages/tensorflow/python/client/session.py\u001b[0m in \u001b[0;36m_run_fn\u001b[0;34m(feed_dict, fetch_list, target_list, options, run_metadata)\u001b[0m\n\u001b[1;32m   1275\u001b[0m       \u001b[0mself\u001b[0m\u001b[0;34m.\u001b[0m\u001b[0m_extend_graph\u001b[0m\u001b[0;34m(\u001b[0m\u001b[0;34m)\u001b[0m\u001b[0;34m\u001b[0m\u001b[0m\n\u001b[1;32m   1276\u001b[0m       return self._call_tf_sessionrun(\n\u001b[0;32m-> 1277\u001b[0;31m           options, feed_dict, fetch_list, target_list, run_metadata)\n\u001b[0m\u001b[1;32m   1278\u001b[0m \u001b[0;34m\u001b[0m\u001b[0m\n\u001b[1;32m   1279\u001b[0m     \u001b[0;32mdef\u001b[0m \u001b[0m_prun_fn\u001b[0m\u001b[0;34m(\u001b[0m\u001b[0mhandle\u001b[0m\u001b[0;34m,\u001b[0m \u001b[0mfeed_dict\u001b[0m\u001b[0;34m,\u001b[0m \u001b[0mfetch_list\u001b[0m\u001b[0;34m)\u001b[0m\u001b[0;34m:\u001b[0m\u001b[0;34m\u001b[0m\u001b[0m\n",
            "\u001b[0;32m/usr/local/lib/python3.6/dist-packages/tensorflow/python/client/session.py\u001b[0m in \u001b[0;36m_call_tf_sessionrun\u001b[0;34m(self, options, feed_dict, fetch_list, target_list, run_metadata)\u001b[0m\n\u001b[1;32m   1365\u001b[0m     return tf_session.TF_SessionRun_wrapper(\n\u001b[1;32m   1366\u001b[0m         \u001b[0mself\u001b[0m\u001b[0;34m.\u001b[0m\u001b[0m_session\u001b[0m\u001b[0;34m,\u001b[0m \u001b[0moptions\u001b[0m\u001b[0;34m,\u001b[0m \u001b[0mfeed_dict\u001b[0m\u001b[0;34m,\u001b[0m \u001b[0mfetch_list\u001b[0m\u001b[0;34m,\u001b[0m \u001b[0mtarget_list\u001b[0m\u001b[0;34m,\u001b[0m\u001b[0;34m\u001b[0m\u001b[0m\n\u001b[0;32m-> 1367\u001b[0;31m         run_metadata)\n\u001b[0m\u001b[1;32m   1368\u001b[0m \u001b[0;34m\u001b[0m\u001b[0m\n\u001b[1;32m   1369\u001b[0m   \u001b[0;32mdef\u001b[0m \u001b[0m_call_tf_sessionprun\u001b[0m\u001b[0;34m(\u001b[0m\u001b[0mself\u001b[0m\u001b[0;34m,\u001b[0m \u001b[0mhandle\u001b[0m\u001b[0;34m,\u001b[0m \u001b[0mfeed_dict\u001b[0m\u001b[0;34m,\u001b[0m \u001b[0mfetch_list\u001b[0m\u001b[0;34m)\u001b[0m\u001b[0;34m:\u001b[0m\u001b[0;34m\u001b[0m\u001b[0m\n",
            "\u001b[0;31mKeyboardInterrupt\u001b[0m: "
          ]
        }
      ]
    },
    {
      "metadata": {
        "id": "cx0ZyAShQjqZ",
        "colab_type": "code",
        "colab": {
          "base_uri": "https://localhost:8080/",
          "height": 34
        },
        "outputId": "2d4d6933-4e1c-480a-fb3e-c4b47431c178"
      },
      "cell_type": "code",
      "source": [
        "!git clone https://github.com/ajoshiusc/lesion-detector"
      ],
      "execution_count": 21,
      "outputs": [
        {
          "output_type": "stream",
          "text": [
            "fatal: destination path 'lesion-detector' already exists and is not an empty directory.\n"
          ],
          "name": "stdout"
        }
      ]
    },
    {
      "metadata": {
        "id": "tRz3szEydH_9",
        "colab_type": "code",
        "colab": {
          "base_uri": "https://localhost:8080/",
          "height": 51
        },
        "outputId": "3e3dd7b5-aa91-4bb0-d918-cde004898985"
      },
      "cell_type": "code",
      "source": [
        "!ls\n",
        "!pwd\n"
      ],
      "execution_count": 18,
      "outputs": [
        {
          "output_type": "stream",
          "text": [
            "ccs_128.m3u  lesion-detector  sample_data\n",
            "/content\n"
          ],
          "name": "stdout"
        }
      ]
    }
  ]
}