{
  "nbformat": 4,
  "nbformat_minor": 0,
  "metadata": {
    "colab": {
      "name": "main.ipynb",
      "version": "0.3.2",
      "provenance": [],
      "collapsed_sections": [],
      "toc_visible": true,
      "include_colab_link": true
    },
    "kernelspec": {
      "name": "python3",
      "display_name": "Python 3"
    },
    "accelerator": "GPU"
  },
  "cells": [
    {
      "cell_type": "markdown",
      "metadata": {
        "id": "view-in-github",
        "colab_type": "text"
      },
      "source": [
        "[View in Colaboratory](https://colab.research.google.com/github/ajoshiusc/lesion-detector/blob/master/main.ipynb)"
      ]
    },
    {
      "metadata": {
        "id": "9nirm0jNO0Hw",
        "colab_type": "code",
        "colab": {
          "base_uri": "https://localhost:8080/",
          "height": 1040
        },
        "outputId": "08c04b32-67cd-48cd-e3b7-5de4f484954d"
      },
      "cell_type": "code",
      "source": [
        "!git clone https://github.com/ajoshiusc/lesion-detector\n",
        "!pip install nilearn\n",
        "import nilearn.image\n",
        "import sys\n",
        "sys.path.insert(0, './lesion-detector/src/SpyderNet')\n",
        "  \n",
        "import numpy as np\n",
        "from spydernet import train_model\n",
        "from datautils import read_data\n",
        "from google.colab import drive\n",
        "#gdrive/My Drive/tracktbi_pilot/TBI_INVAB025GWR\n",
        "def main():\n",
        "\n",
        "    print('gdrive mounting')\n",
        "    drive.mount('/content/gdrive')\n",
        "    print('mounted')\n",
        "    \"\"\" Main script that calls the functions objects\"\"\"\n",
        "    data_dir = 'gdrive/My Drive/tracktbi_pilot'\n",
        "\n",
        "    train_data = read_data(\n",
        "        study_dir=data_dir, nsub=5, psize=[8, 8], npatch_perslice=256)\n",
        "    \n",
        "    print('data read')\n",
        "\n",
        "    model = train_model(train_data)\n",
        "\n",
        "\n",
        "if __name__ == \"__main__\":\n",
        "    main()\n",
        "\n",
        "\n",
        "\n",
        "from tensorflow.python.client import device_lib\n",
        "device_lib.list_local_devices()"
      ],
      "execution_count": 0,
      "outputs": [
        {
          "output_type": "stream",
          "text": [
            "Cloning into 'lesion-detector'...\n",
            "remote: Enumerating objects: 212, done.\u001b[K\n",
            "remote: Counting objects: 100% (212/212), done.\u001b[K\n",
            "remote: Compressing objects: 100% (145/145), done.\u001b[K\n",
            "remote: Total 212 (delta 124), reused 132 (delta 54), pack-reused 0\u001b[K\n",
            "Receiving objects: 100% (212/212), 15.61 MiB | 18.31 MiB/s, done.\n",
            "Resolving deltas: 100% (124/124), done.\n",
            "Collecting nilearn\n",
            "\u001b[?25l  Downloading https://files.pythonhosted.org/packages/f5/b8/ecf17d4ce0aee488ea4c1dc483cd191811f79c644010255258623988bd5b/nilearn-0.4.2-py2.py3-none-any.whl (979kB)\n",
            "\u001b[K    100% |████████████████████████████████| 983kB 19.3MB/s \n",
            "\u001b[?25hCollecting nibabel>=2.0.2 (from nilearn)\n",
            "\u001b[?25l  Downloading https://files.pythonhosted.org/packages/d9/f0/008aa42c3bd42d101cfcd5418643364a4b3dd2322de3e8b3d6c644ae0fb0/nibabel-2.3.0.tar.gz (4.2MB)\n",
            "\u001b[K    100% |████████████████████████████████| 4.2MB 938kB/s \n",
            "\u001b[?25hBuilding wheels for collected packages: nibabel\n",
            "  Running setup.py bdist_wheel for nibabel ... \u001b[?25l-\b \b\\\b \b|\b \b/\b \b-\b \b\\\b \b|\b \bdone\n",
            "\u001b[?25h  Stored in directory: /root/.cache/pip/wheels/7e/97/9b/7cf05225afac39de2dacef758fc06c0c0bdf3e6efb40fabb9c\n",
            "Successfully built nibabel\n",
            "Installing collected packages: nibabel, nilearn\n",
            "Successfully installed nibabel-2.3.0 nilearn-0.4.2\n"
          ],
          "name": "stdout"
        },
        {
          "output_type": "stream",
          "text": [
            "Using TensorFlow backend.\n"
          ],
          "name": "stderr"
        },
        {
          "output_type": "stream",
          "text": [
            "gdrive mounting\n",
            "Go to this URL in a browser: https://accounts.google.com/o/oauth2/auth?client_id=947318989803-6bn6qk8qdgf4n4g3pfee6491hc0brc4i.apps.googleusercontent.com&redirect_uri=urn%3Aietf%3Awg%3Aoauth%3A2.0%3Aoob&scope=email%20https%3A%2F%2Fwww.googleapis.com%2Fauth%2Fdocs.test%20https%3A%2F%2Fwww.googleapis.com%2Fauth%2Fdrive%20https%3A%2F%2Fwww.googleapis.com%2Fauth%2Fdrive.photos.readonly%20https%3A%2F%2Fwww.googleapis.com%2Fauth%2Fpeopleapi.readonly&response_type=code\n",
            "\n",
            "Enter your authorization code:\n",
            "··········\n",
            "Mounted at /content/gdrive\n",
            "mounted\n",
            "subject 1 \n",
            "subject 2 \n",
            "subject 3 \n",
            "subject 4 \n",
            "subject 5 \n",
            "data read\n",
            "==Defining Model  ==\n",
            "Train on 186368 samples, validate on 46592 samples\n",
            "Epoch 1/200\n",
            "186368/186368 [==============================] - 20s 107us/step - loss: 0.1244 - d1dec3_loss: 0.0343 - d2dec3_loss: 0.0415 - d3dec3_loss: 0.0486 - val_loss: 0.0456 - val_d1dec3_loss: 0.0169 - val_d2dec3_loss: 0.0128 - val_d3dec3_loss: 0.0159\n",
            "Epoch 2/200\n",
            "186368/186368 [==============================] - 19s 100us/step - loss: 0.0390 - d1dec3_loss: 0.0116 - d2dec3_loss: 0.0135 - d3dec3_loss: 0.0140 - val_loss: 0.0337 - val_d1dec3_loss: 0.0131 - val_d2dec3_loss: 0.0093 - val_d3dec3_loss: 0.0113\n",
            "Epoch 3/200\n",
            "186368/186368 [==============================] - 18s 99us/step - loss: 0.0322 - d1dec3_loss: 0.0099 - d2dec3_loss: 0.0111 - d3dec3_loss: 0.0112 - val_loss: 0.0298 - val_d1dec3_loss: 0.0116 - val_d2dec3_loss: 0.0083 - val_d3dec3_loss: 0.0099\n",
            "Epoch 4/200\n",
            "186368/186368 [==============================] - 18s 99us/step - loss: 0.0288 - d1dec3_loss: 0.0090 - d2dec3_loss: 0.0098 - d3dec3_loss: 0.0100 - val_loss: 0.0272 - val_d1dec3_loss: 0.0108 - val_d2dec3_loss: 0.0072 - val_d3dec3_loss: 0.0092\n",
            "Epoch 5/200\n",
            "186368/186368 [==============================] - 18s 98us/step - loss: 0.0265 - d1dec3_loss: 0.0084 - d2dec3_loss: 0.0089 - d3dec3_loss: 0.0092 - val_loss: 0.0259 - val_d1dec3_loss: 0.0103 - val_d2dec3_loss: 0.0065 - val_d3dec3_loss: 0.0090\n",
            "Epoch 6/200\n",
            "186368/186368 [==============================] - 18s 99us/step - loss: 0.0248 - d1dec3_loss: 0.0080 - d2dec3_loss: 0.0082 - d3dec3_loss: 0.0085 - val_loss: 0.0248 - val_d1dec3_loss: 0.0099 - val_d2dec3_loss: 0.0062 - val_d3dec3_loss: 0.0087\n",
            "Epoch 7/200\n",
            "186368/186368 [==============================] - 18s 98us/step - loss: 0.0235 - d1dec3_loss: 0.0077 - d2dec3_loss: 0.0078 - d3dec3_loss: 0.0080 - val_loss: 0.0234 - val_d1dec3_loss: 0.0095 - val_d2dec3_loss: 0.0058 - val_d3dec3_loss: 0.0081\n",
            "Epoch 8/200\n",
            "186368/186368 [==============================] - 18s 99us/step - loss: 0.0225 - d1dec3_loss: 0.0074 - d2dec3_loss: 0.0075 - d3dec3_loss: 0.0076 - val_loss: 0.0223 - val_d1dec3_loss: 0.0091 - val_d2dec3_loss: 0.0056 - val_d3dec3_loss: 0.0076\n",
            "Epoch 9/200\n",
            "186368/186368 [==============================] - 18s 98us/step - loss: 0.0218 - d1dec3_loss: 0.0071 - d2dec3_loss: 0.0073 - d3dec3_loss: 0.0073 - val_loss: 0.0216 - val_d1dec3_loss: 0.0088 - val_d2dec3_loss: 0.0054 - val_d3dec3_loss: 0.0074\n",
            "Epoch 10/200\n",
            "186368/186368 [==============================] - 19s 99us/step - loss: 0.0212 - d1dec3_loss: 0.0069 - d2dec3_loss: 0.0072 - d3dec3_loss: 0.0071 - val_loss: 0.0211 - val_d1dec3_loss: 0.0086 - val_d2dec3_loss: 0.0054 - val_d3dec3_loss: 0.0071\n",
            "Epoch 11/200\n",
            "186368/186368 [==============================] - 18s 99us/step - loss: 0.0207 - d1dec3_loss: 0.0067 - d2dec3_loss: 0.0071 - d3dec3_loss: 0.0069 - val_loss: 0.0206 - val_d1dec3_loss: 0.0084 - val_d2dec3_loss: 0.0052 - val_d3dec3_loss: 0.0070\n",
            "Epoch 12/200\n",
            "152064/186368 [=======================>......] - ETA: 3s - loss: 0.0203 - d1dec3_loss: 0.0066 - d2dec3_loss: 0.0070 - d3dec3_loss: 0.0068"
          ],
          "name": "stdout"
        }
      ]
    },
    {
      "metadata": {
        "id": "cx0ZyAShQjqZ",
        "colab_type": "code",
        "colab": {
          "base_uri": "https://localhost:8080/",
          "height": 34
        },
        "outputId": "2d4d6933-4e1c-480a-fb3e-c4b47431c178"
      },
      "cell_type": "code",
      "source": [
        "!git clone https://github.com/ajoshiusc/lesion-detector"
      ],
      "execution_count": 21,
      "outputs": [
        {
          "output_type": "stream",
          "text": [
            "fatal: destination path 'lesion-detector' already exists and is not an empty directory.\n"
          ],
          "name": "stdout"
        }
      ]
    },
    {
      "metadata": {
        "id": "tRz3szEydH_9",
        "colab_type": "code",
        "colab": {
          "base_uri": "https://localhost:8080/",
          "height": 51
        },
        "outputId": "3e3dd7b5-aa91-4bb0-d918-cde004898985"
      },
      "cell_type": "code",
      "source": [
        "!ls\n",
        "!pwd\n"
      ],
      "execution_count": 18,
      "outputs": [
        {
          "output_type": "stream",
          "text": [
            "ccs_128.m3u  lesion-detector  sample_data\n",
            "/content\n"
          ],
          "name": "stdout"
        }
      ]
    }
  ]
}