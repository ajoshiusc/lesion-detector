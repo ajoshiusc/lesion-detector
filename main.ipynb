{
  "nbformat": 4,
  "nbformat_minor": 0,
  "metadata": {
    "colab": {
      "name": "main.ipynb",
      "version": "0.3.2",
      "provenance": [],
      "collapsed_sections": [],
      "toc_visible": true,
      "include_colab_link": true
    },
    "kernelspec": {
      "name": "python3",
      "display_name": "Python 3"
    },
    "accelerator": "GPU"
  },
  "cells": [
    {
      "cell_type": "markdown",
      "metadata": {
        "id": "view-in-github",
        "colab_type": "text"
      },
      "source": [
        "[View in Colaboratory](https://colab.research.google.com/github/ajoshiusc/lesion-detector/blob/master/main.ipynb)"
      ]
    },
    {
      "metadata": {
        "id": "9nirm0jNO0Hw",
        "colab_type": "code",
        "colab": {
          "base_uri": "https://localhost:8080/",
          "height": 255
        },
        "outputId": "e4bd2eb4-5376-4e0c-fa30-5c76b11a3308"
      },
      "cell_type": "code",
      "source": [
        "!rm -rf ./lesion-detector\n",
        "\n",
        "!git clone https://github.com/ajoshiusc/lesion-detector\n",
        "!pip install nilearn\n",
        "import nilearn.image\n",
        "import sys\n",
        "sys.path.insert(0, './lesion-detector/src/SpyderNet')\n",
        "  \n",
        "import numpy as np\n",
        "from spydernet import train_model, mod_indep_rep\n",
        "from datautils import read_data\n",
        "import matplotlib.pyplot as plt\n",
        "from google.colab import drive\n",
        "\n",
        "def main():\n",
        "    \"\"\" Main script that calls the functions objects\"\"\"\n",
        "    print('gdrive mounting')\n",
        "    drive.mount('/content/gdrive')\n",
        "    print('mounted')\n",
        "    \"\"\" Main script that calls the functions objects\"\"\"\n",
        "    data_dir = 'gdrive/My Drive/tracktbi_pilot'\n",
        "\n",
        "\n",
        "    data = read_data(\n",
        "        study_dir=data_dir, nsub=5, psize=[32, 32], npatch_perslice=256)\n",
        "\n",
        "    train_data = data #[0:-5, :, :, :]\n",
        "    model = train_model(train_data)\n",
        "\n",
        "    test_data = data[90:95, :, :, :]\n",
        "    I, pred = mod_indep_rep(model, test_data)\n",
        "\n",
        "    plt.figure()\n",
        "    for j in range(5):\n",
        "        plt.subplot(2, 5, j + 1)\n",
        "        plt.imshow(I[j, :, :, :].squeeze(), cmap='gray')\n",
        "        plt.subplot(2, 5, 5 + j + 1)\n",
        "        plt.imshow(test_data[j, :, :, 0].squeeze(), cmap='gray')\n",
        "        plt.subplot(2, 5, 10 + j + 1)\n",
        "        plt.imshow(pred[j, :, :, 0].squeeze(), cmap='gray')\n",
        "\n",
        "    plt.show()\n",
        "\n",
        "    print(test_data)\n",
        "    print(I)\n",
        "\n",
        "#    for j in range(5):\n",
        "#        plt.matshow(I[j,:,:,:].squeeze())\n",
        "\n",
        "#    plt.show()\n",
        "\n",
        "if __name__ == \"__main__\":\n",
        "    main()\n"
      ],
      "execution_count": 0,
      "outputs": [
        {
          "output_type": "stream",
          "text": [
            "Cloning into 'lesion-detector'...\n",
            "remote: Enumerating objects: 226, done.\u001b[K\n",
            "remote: Counting objects: 100% (226/226), done.\u001b[K\n",
            "remote: Compressing objects: 100% (155/155), done.\u001b[K\n",
            "remote: Total 226 (delta 134), reused 139 (delta 58), pack-reused 0\u001b[K\n",
            "Receiving objects: 100% (226/226), 15.62 MiB | 17.21 MiB/s, done.\n",
            "Resolving deltas: 100% (134/134), done.\n",
            "Requirement already satisfied: nilearn in /usr/local/lib/python3.6/dist-packages (0.4.2)\n",
            "Requirement already satisfied: nibabel>=2.0.2 in /usr/local/lib/python3.6/dist-packages (from nilearn) (2.3.0)\n",
            "gdrive mounting\n",
            "Mounted at /content/gdrive\n",
            "mounted\n",
            "subject 1 \n",
            "subject 2 \n"
          ],
          "name": "stdout"
        }
      ]
    },
    {
      "metadata": {
        "id": "cx0ZyAShQjqZ",
        "colab_type": "code",
        "colab": {
          "base_uri": "https://localhost:8080/",
          "height": 34
        },
        "outputId": "2d4d6933-4e1c-480a-fb3e-c4b47431c178"
      },
      "cell_type": "code",
      "source": [
        "!git clone https://github.com/ajoshiusc/lesion-detector"
      ],
      "execution_count": 21,
      "outputs": [
        {
          "output_type": "stream",
          "text": [
            "fatal: destination path 'lesion-detector' already exists and is not an empty directory.\n"
          ],
          "name": "stdout"
        }
      ]
    },
    {
      "metadata": {
        "id": "tRz3szEydH_9",
        "colab_type": "code",
        "colab": {
          "base_uri": "https://localhost:8080/",
          "height": 51
        },
        "outputId": "3e3dd7b5-aa91-4bb0-d918-cde004898985"
      },
      "cell_type": "code",
      "source": [
        "!ls\n",
        "!pwd\n"
      ],
      "execution_count": 18,
      "outputs": [
        {
          "output_type": "stream",
          "text": [
            "ccs_128.m3u  lesion-detector  sample_data\n",
            "/content\n"
          ],
          "name": "stdout"
        }
      ]
    }
  ]
}