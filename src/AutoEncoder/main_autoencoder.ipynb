{
  "nbformat": 4,
  "nbformat_minor": 0,
  "metadata": {
    "colab": {
      "name": "Copy of main.ipynb",
      "version": "0.3.2",
      "provenance": [],
      "collapsed_sections": [],
      "toc_visible": true,
      "include_colab_link": true
    },
    "kernelspec": {
      "name": "python3",
      "display_name": "Python 3"
    },
    "accelerator": "GPU"
  },
  "cells": [
    {
      "cell_type": "markdown",
      "metadata": {
        "id": "view-in-github",
        "colab_type": "text"
      },
      "source": [
        "[View in Colaboratory](https://colab.research.google.com/github/ajoshiusc/lesion-detector/blob/master/main_autoencoder.ipynb)"
      ]
    },
    {
      "metadata": {
        "id": "9nirm0jNO0Hw",
        "colab_type": "code",
        "colab": {
          "base_uri": "https://localhost:8080/",
          "height": 1125
        },
        "outputId": "255d1388-6b22-4de4-acad-d2dd1feab5fc"
      },
      "cell_type": "code",
      "source": [
        "!rm -rf ./lesion-detector\n",
        "\n",
        "!git clone https://github.com/ajoshiusc/lesion-detector\n",
        "!pip install nilearn\n",
        "import nilearn.image\n",
        "import sys\n",
        "sys.path.insert(0, './lesion-detector/src')\n",
        "import numpy as np\n",
        "\n",
        "\n",
        "sys.path.insert(0, './lesion-detector/src/SpyderNet')\n",
        "  \n",
        "import numpy as np\n",
        "from spydernet import train_model, mod_indep_rep\n",
        "from datautils import read_data\n",
        "import matplotlib.pyplot as plt\n",
        "from google.colab import drive\n",
        "from keras.callbacks import TensorBoard\n",
        "from keras import optimizers\n",
        "\n",
        "from tensorflow.python.client import device_lib\n",
        "print(device_lib.list_local_devices())\n",
        "\n",
        "\"\"\" Main script that calls the functions objects\"\"\"\n",
        "print('gdrive mounting')\n",
        "drive.mount('/content/gdrive')\n",
        "print('mounted')\n",
        "\"\"\" Main script that calls the functions objects\"\"\"\n",
        "data_dir = 'gdrive/My Drive/tracktbi_pilot'\n",
        "\n",
        "\n",
        "window_size=35\n",
        "data = read_data(\n",
        "study_dir=data_dir, nsub=20, psize=[window_size, window_size], npatch_perslice=64)\n"
      ],
      "execution_count": 1,
      "outputs": [
        {
          "output_type": "stream",
          "text": [
            "Cloning into 'lesion-detector'...\n",
            "remote: Enumerating objects: 21, done.\u001b[K\n",
            "remote: Counting objects: 100% (21/21), done.\u001b[K\n",
            "remote: Compressing objects: 100% (18/18), done.\u001b[K\n",
            "remote: Total 275 (delta 9), reused 8 (delta 3), pack-reused 254\u001b[K\n",
            "Receiving objects: 100% (275/275), 17.08 MiB | 12.68 MiB/s, done.\n",
            "Resolving deltas: 100% (161/161), done.\n",
            "Collecting nilearn\n",
            "\u001b[?25l  Downloading https://files.pythonhosted.org/packages/f5/b8/ecf17d4ce0aee488ea4c1dc483cd191811f79c644010255258623988bd5b/nilearn-0.4.2-py2.py3-none-any.whl (979kB)\n",
            "\u001b[K    100% |████████████████████████████████| 983kB 9.1MB/s \n",
            "\u001b[?25hCollecting nibabel>=2.0.2 (from nilearn)\n",
            "\u001b[?25l  Downloading https://files.pythonhosted.org/packages/d9/f0/008aa42c3bd42d101cfcd5418643364a4b3dd2322de3e8b3d6c644ae0fb0/nibabel-2.3.0.tar.gz (4.2MB)\n",
            "\u001b[K    100% |████████████████████████████████| 4.2MB 5.0MB/s \n",
            "\u001b[?25hBuilding wheels for collected packages: nibabel\n",
            "  Running setup.py bdist_wheel for nibabel ... \u001b[?25l-\b \b\\\b \b|\b \b/\b \b-\b \b\\\b \b|\b \b/\b \b-\b \b\\\b \b|\b \bdone\n",
            "\u001b[?25h  Stored in directory: /root/.cache/pip/wheels/7e/97/9b/7cf05225afac39de2dacef758fc06c0c0bdf3e6efb40fabb9c\n",
            "Successfully built nibabel\n",
            "Installing collected packages: nibabel, nilearn\n",
            "Successfully installed nibabel-2.3.0 nilearn-0.4.2\n"
          ],
          "name": "stdout"
        },
        {
          "output_type": "stream",
          "text": [
            "Using TensorFlow backend.\n"
          ],
          "name": "stderr"
        },
        {
          "output_type": "stream",
          "text": [
            "[name: \"/device:CPU:0\"\n",
            "device_type: \"CPU\"\n",
            "memory_limit: 268435456\n",
            "locality {\n",
            "}\n",
            "incarnation: 15615210535848727408\n",
            ", name: \"/device:GPU:0\"\n",
            "device_type: \"GPU\"\n",
            "memory_limit: 11281553818\n",
            "locality {\n",
            "  bus_id: 1\n",
            "  links {\n",
            "  }\n",
            "}\n",
            "incarnation: 1308255770423303812\n",
            "physical_device_desc: \"device: 0, name: Tesla K80, pci bus id: 0000:00:04.0, compute capability: 3.7\"\n",
            "]\n",
            "gdrive mounting\n",
            "Go to this URL in a browser: https://accounts.google.com/o/oauth2/auth?client_id=947318989803-6bn6qk8qdgf4n4g3pfee6491hc0brc4i.apps.googleusercontent.com&redirect_uri=urn%3Aietf%3Awg%3Aoauth%3A2.0%3Aoob&scope=email%20https%3A%2F%2Fwww.googleapis.com%2Fauth%2Fdocs.test%20https%3A%2F%2Fwww.googleapis.com%2Fauth%2Fdrive%20https%3A%2F%2Fwww.googleapis.com%2Fauth%2Fdrive.photos.readonly%20https%3A%2F%2Fwww.googleapis.com%2Fauth%2Fpeopleapi.readonly&response_type=code\n",
            "\n",
            "Enter your authorization code:\n",
            "··········\n",
            "Mounted at /content/gdrive\n",
            "mounted\n",
            "subject 1 \n",
            "subject 2 \n",
            "subject 3 \n",
            "subject 4 \n",
            "subject 5 \n",
            "subject 6 \n",
            "subject 7 \n",
            "subject 8 \n",
            "subject 9 \n",
            "subject 10 \n",
            "subject 11 \n",
            "subject 12 \n",
            "subject 13 \n",
            "subject 14 \n",
            "subject 15 \n",
            "subject 16 \n",
            "subject 17 \n",
            "subject 18 \n",
            "subject 19 \n",
            "subject 20 \n"
          ],
          "name": "stdout"
        }
      ]
    },
    {
      "metadata": {
        "id": "tRz3szEydH_9",
        "colab_type": "code",
        "colab": {}
      },
      "cell_type": "code",
      "source": [
        "from keras.layers import Input, Dense, Conv2D, MaxPooling2D, UpSampling2D\n",
        "from keras.models import Model\n",
        "\n",
        "def auto_encoder(input_size):\n",
        "\n",
        "    input_img = Input(shape=(input_size, input_size,3))  # adapt this if using `channels_first` image data format\n",
        "\n",
        "\n",
        "\n",
        "    x = Conv2D(32, (3, 3), activation='relu', padding='same')(input_img)\n",
        "\n",
        "    x = MaxPooling2D((2, 2), padding='same')(x)\n",
        "\n",
        "    x = Conv2D(64, (3, 3), activation='relu', padding='same')(x)\n",
        "\n",
        "    encoded = MaxPooling2D((2, 2), padding='same')(x)\n",
        "\n",
        "\n",
        "\n",
        "    # at this point the representation is (7, 7, 32)\n",
        "\n",
        "\n",
        "\n",
        "    x = Conv2D(64, (3, 3), activation='relu', padding='same')(encoded)\n",
        "\n",
        "    x = UpSampling2D((2, 2))(x)\n",
        "\n",
        "    x = Conv2D(32, (3, 3,), activation='relu', padding='same')(x)\n",
        "\n",
        "    x = UpSampling2D((2, 2))(x)\n",
        "\n",
        "    decoded = Conv2D(3, (2, 2), activation='relu', padding='valid')(x)\n",
        "\n",
        "\n",
        "\n",
        "    model = Model(input_img, decoded)\n",
        "    opt = optimizers.adam(lr=0.001)\n",
        "    model.compile(optimizer=opt, loss='mean_squared_error')\n",
        "\n",
        "\n",
        "\n",
        "    return model"
      ],
      "execution_count": 0,
      "outputs": []
    },
    {
      "metadata": {
        "id": "mH8YchSJ_3U9",
        "colab_type": "code",
        "colab": {
          "base_uri": "https://localhost:8080/",
          "height": 255
        },
        "outputId": "05556c35-d9b2-429b-82f1-ca4b56489f06"
      },
      "cell_type": "code",
      "source": [
        "!pip install Tensorboard\n",
        "from time import time\n",
        "from keras.callbacks import TensorBoard\n",
        "from keras import backend as K\n",
        "#np.random.shuffle(data)\n",
        "trainsize=np.floor((data.shape[0])*0.8)\n",
        "testsize=np.floor((data.shape[0])*0.9)\n",
        "#trainsize.astype(int)\n",
        "\n",
        "train_data = data[0:int(trainsize), :, :, :]\n",
        "val_data = data[int(trainsize):int(testsize), :, :, :]\n",
        "test_data=data[int(testsize):, :, :, :]\n",
        "\n",
        "model=auto_encoder(window_size)\n",
        "model.fit(train_data,train_data,\n",
        "\n",
        "                epochs=50,\n",
        "\n",
        "                batch_size=128,\n",
        "\n",
        "                shuffle=True,\n",
        "\n",
        "                validation_data=(val_data, val_data),\n",
        "\n",
        "               callbacks=[TensorBoard(log_dir='/tmp/tb')])\n"
      ],
      "execution_count": 0,
      "outputs": [
        {
          "output_type": "stream",
          "text": [
            "Requirement already satisfied: Tensorboard in /usr/local/lib/python3.6/dist-packages (1.11.0)\n",
            "Requirement already satisfied: wheel>=0.26; python_version >= \"3\" in /usr/local/lib/python3.6/dist-packages (from Tensorboard) (0.32.1)\n",
            "Requirement already satisfied: protobuf>=3.4.0 in /usr/local/lib/python3.6/dist-packages (from Tensorboard) (3.6.1)\n",
            "Requirement already satisfied: six>=1.10.0 in /usr/local/lib/python3.6/dist-packages (from Tensorboard) (1.11.0)\n",
            "Requirement already satisfied: grpcio>=1.6.3 in /usr/local/lib/python3.6/dist-packages (from Tensorboard) (1.15.0)\n",
            "Requirement already satisfied: werkzeug>=0.11.10 in /usr/local/lib/python3.6/dist-packages (from Tensorboard) (0.14.1)\n",
            "Requirement already satisfied: numpy>=1.12.0 in /usr/local/lib/python3.6/dist-packages (from Tensorboard) (1.14.6)\n",
            "Requirement already satisfied: markdown>=2.6.8 in /usr/local/lib/python3.6/dist-packages (from Tensorboard) (3.0.1)\n",
            "Requirement already satisfied: setuptools in /usr/local/lib/python3.6/dist-packages (from protobuf>=3.4.0->Tensorboard) (39.1.0)\n",
            "Train on 186368 samples, validate on 23296 samples\n",
            "Epoch 1/50\n",
            "186368/186368 [==============================] - 60s 320us/step - loss: 0.0075 - val_loss: 0.0049\n",
            "Epoch 2/50\n",
            "117888/186368 [=================>............] - ETA: 20s - loss: 0.0040"
          ],
          "name": "stdout"
        }
      ]
    },
    {
      "metadata": {
        "id": "THwKQ31tD2Wf",
        "colab_type": "code",
        "colab": {
          "base_uri": "https://localhost:8080/",
          "height": 319
        },
        "outputId": "096ec6bc-86c5-477b-89ba-bdedabb4f869"
      },
      "cell_type": "code",
      "source": [
        "import sklearn \n",
        "x_test_noisy=test_data.copy()\n",
        "x_test_noisy[5,4:8,10:20,0] = 1\n",
        "decoded_imgs = model.predict(x_test_noisy)\n",
        "plt.figure()\n",
        "for j in range(5):\n",
        "  ax=plt.subplot(3, 5, j + 1)\n",
        "  plt.imshow(x_test_noisy[j+5, :, :, 0].squeeze(), vmin=0., vmax=1., cmap='gray')\n",
        "  ax.get_xaxis().set_visible(False)\n",
        "  ax.get_yaxis().set_visible(False)\n",
        "  ax=plt.subplot(3, 5, 5 + j + 1)\n",
        "  plt.imshow(decoded_imgs[j+5, :, :, 0].squeeze(),vmin=0., vmax=1., cmap='gray')\n",
        "  ax.get_xaxis().set_visible(False)\n",
        "  ax.get_yaxis().set_visible(False)\n",
        "  ax=plt.subplot(3, 5, 10 + j + 1)\n",
        "  plt.imshow(x_test_noisy[j+5, :, :, 0].squeeze()-decoded_imgs[j+5, :, :, 0].squeeze(),vmin=0., vmax=1., cmap='gray')\n",
        "  ax.get_xaxis().set_visible(False)\n",
        "  ax.get_yaxis().set_visible(False)\n",
        "  \n",
        "\n",
        "plt.show()"
      ],
      "execution_count": 17,
      "outputs": [
        {
          "output_type": "display_data",
          "data": {
            "image/png": "[encoded data removed]",
            "text/plain": [
              "<matplotlib.figure.Figure at 0x7f5ec0d7a5f8>"
            ]
          },
          "metadata": {
            "tags": []
          }
        }
      ]
    },
    {
      "metadata": {
        "id": "Zs2hLspaMlxf",
        "colab_type": "code",
        "colab": {
          "base_uri": "https://localhost:8080/",
          "height": 34
        },
        "outputId": "f3c9f30d-f953-49cd-e8ed-e85865756539"
      },
      "cell_type": "code",
      "source": [
        "\n"
      ],
      "execution_count": 0,
      "outputs": [
        {
          "output_type": "stream",
          "text": [
            "[[4, 5, 6], [1, 2, 3]]\n"
          ],
          "name": "stdout"
        }
      ]
    }
  ]
}